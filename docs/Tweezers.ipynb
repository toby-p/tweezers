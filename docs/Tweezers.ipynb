{
 "cells": [
  {
   "cell_type": "markdown",
   "metadata": {},
   "source": [
    "# Tweezers\n",
    "A lightweight Python library for really simple data scraping from the Twitter API."
   ]
  },
  {
   "cell_type": "code",
   "execution_count": 1,
   "metadata": {},
   "outputs": [],
   "source": [
    "import os, sys\n",
    "sys.path.append(os.path.dirname(os.getcwd()))\n",
    "\n",
    "from tweezers import Tweezers"
   ]
  },
  {
   "cell_type": "markdown",
   "metadata": {},
   "source": [
    "### Create an instance of Tweezers with API credentials"
   ]
  },
  {
   "cell_type": "code",
   "execution_count": 2,
   "metadata": {},
   "outputs": [
    {
     "name": "stdout",
     "output_type": "stream",
     "text": [
      "Tweezers instance with status code 200\n"
     ]
    }
   ],
   "source": [
    "# Loading Twitter auth credentials from a local JSON file. Get yours here:\n",
    "# https://developer.twitter.com/en/apps/\n",
    "import json\n",
    "\n",
    "fp = os.path.join(os.getcwd(), \"credentials.json\")\n",
    "with open(fp) as f:\n",
    "    credentials = json.load(f)\n",
    "\n",
    "t = Tweezers(\n",
    "    api_key=credentials[\"api_key\"], \n",
    "    api_secret_key=credentials[\"api_secret_key\"], \n",
    "    access_token=credentials[\"access_token\"], \n",
    "    access_token_secret=credentials[\"access_token_secret\"]\n",
    ")\n",
    "print(t)"
   ]
  },
  {
   "cell_type": "markdown",
   "metadata": {},
   "source": [
    "### Perform a search\n",
    "Searching returns an instance of a class `TweezerSearch`, which contains various data attributes returned by the Twitter API:"
   ]
  },
  {
   "cell_type": "code",
   "execution_count": 3,
   "metadata": {},
   "outputs": [
    {
     "name": "stdout",
     "output_type": "stream",
     "text": [
      "1,000 tweets requested; 1,000 tweets returned\n"
     ]
    }
   ],
   "source": [
    "s = t.search(search_term=\"bitcoin\", total=1000, result_type=\"recent\")"
   ]
  },
  {
   "cell_type": "code",
   "execution_count": 4,
   "metadata": {},
   "outputs": [
    {
     "data": {
      "text/html": [
       "<div>\n",
       "<style scoped>\n",
       "    .dataframe tbody tr th:only-of-type {\n",
       "        vertical-align: middle;\n",
       "    }\n",
       "\n",
       "    .dataframe tbody tr th {\n",
       "        vertical-align: top;\n",
       "    }\n",
       "\n",
       "    .dataframe thead th {\n",
       "        text-align: right;\n",
       "    }\n",
       "</style>\n",
       "<table border=\"1\" class=\"dataframe\">\n",
       "  <thead>\n",
       "    <tr style=\"text-align: right;\">\n",
       "      <th></th>\n",
       "      <th>user</th>\n",
       "      <th>tweet</th>\n",
       "      <th>stripped_tweet</th>\n",
       "      <th>urls</th>\n",
       "      <th>hashtags</th>\n",
       "      <th>ats</th>\n",
       "      <th>created_at</th>\n",
       "      <th>favorite_count</th>\n",
       "      <th>retweet_count</th>\n",
       "      <th>polarity</th>\n",
       "      <th>subjectivity</th>\n",
       "      <th>coordinates</th>\n",
       "    </tr>\n",
       "  </thead>\n",
       "  <tbody>\n",
       "    <tr>\n",
       "      <th>0</th>\n",
       "      <td>bitcoinermike</td>\n",
       "      <td>Best thing to do now is to buy #bitcoin while ...</td>\n",
       "      <td>Best thing to do now is to buy bitcoin while e...</td>\n",
       "      <td>[]</td>\n",
       "      <td>[bitcoin]</td>\n",
       "      <td>[]</td>\n",
       "      <td>2021-05-04 02:30:37</td>\n",
       "      <td>0</td>\n",
       "      <td>0</td>\n",
       "      <td>1.0</td>\n",
       "      <td>0.3</td>\n",
       "      <td>(None, None)</td>\n",
       "    </tr>\n",
       "    <tr>\n",
       "      <th>1</th>\n",
       "      <td>AmandaCryptoGal</td>\n",
       "      <td>Imagine selling all of your Bitcoin for Doge 😂</td>\n",
       "      <td>Imagine selling all of your Bitcoin for Doge 😂</td>\n",
       "      <td>[]</td>\n",
       "      <td>[]</td>\n",
       "      <td>[]</td>\n",
       "      <td>2021-05-04 02:30:35</td>\n",
       "      <td>0</td>\n",
       "      <td>0</td>\n",
       "      <td>0.0</td>\n",
       "      <td>0.0</td>\n",
       "      <td>(None, None)</td>\n",
       "    </tr>\n",
       "    <tr>\n",
       "      <th>2</th>\n",
       "      <td>WisdomQuotesBot</td>\n",
       "      <td>Never let lack of money interfere with having ...</td>\n",
       "      <td>Never let lack of money interfere with having ...</td>\n",
       "      <td>[]</td>\n",
       "      <td>[quotes, inspiration, wisdom, bitcoin]</td>\n",
       "      <td>[]</td>\n",
       "      <td>2021-05-04 02:30:34</td>\n",
       "      <td>0</td>\n",
       "      <td>0</td>\n",
       "      <td>0.3</td>\n",
       "      <td>0.2</td>\n",
       "      <td>(None, None)</td>\n",
       "    </tr>\n",
       "    <tr>\n",
       "      <th>3</th>\n",
       "      <td>pjhonson276</td>\n",
       "      <td>🤝 Follow me on @betfury. Let's hunt for Bitcoi...</td>\n",
       "      <td>🤝 Follow me on betfury. Let's hunt for Bitcoin...</td>\n",
       "      <td>[https://t.co/loWJMN0y37]</td>\n",
       "      <td>[1]</td>\n",
       "      <td>[@betfury]</td>\n",
       "      <td>2021-05-04 02:30:33</td>\n",
       "      <td>0</td>\n",
       "      <td>0</td>\n",
       "      <td>0.3</td>\n",
       "      <td>0.8</td>\n",
       "      <td>(None, None)</td>\n",
       "    </tr>\n",
       "    <tr>\n",
       "      <th>4</th>\n",
       "      <td>delltronic2</td>\n",
       "      <td>@rocket_fuel_ @minordissent @sthenc @Wealth_Th...</td>\n",
       "      <td>rocket_fuel_ minordissent sthenc Wealth_Theory...</td>\n",
       "      <td>[https://t.co/4DJFheVdAc]</td>\n",
       "      <td>[]</td>\n",
       "      <td>[@rocket, @minordissent, @sthenc, @Wealth, @Ma...</td>\n",
       "      <td>2021-05-04 02:30:32</td>\n",
       "      <td>0</td>\n",
       "      <td>0</td>\n",
       "      <td>0.0</td>\n",
       "      <td>0.0</td>\n",
       "      <td>(None, None)</td>\n",
       "    </tr>\n",
       "  </tbody>\n",
       "</table>\n",
       "</div>"
      ],
      "text/plain": [
       "              user                                              tweet  \\\n",
       "0    bitcoinermike  Best thing to do now is to buy #bitcoin while ...   \n",
       "1  AmandaCryptoGal     Imagine selling all of your Bitcoin for Doge 😂   \n",
       "2  WisdomQuotesBot  Never let lack of money interfere with having ...   \n",
       "3      pjhonson276  🤝 Follow me on @betfury. Let's hunt for Bitcoi...   \n",
       "4      delltronic2  @rocket_fuel_ @minordissent @sthenc @Wealth_Th...   \n",
       "\n",
       "                                      stripped_tweet  \\\n",
       "0  Best thing to do now is to buy bitcoin while e...   \n",
       "1     Imagine selling all of your Bitcoin for Doge 😂   \n",
       "2  Never let lack of money interfere with having ...   \n",
       "3  🤝 Follow me on betfury. Let's hunt for Bitcoin...   \n",
       "4  rocket_fuel_ minordissent sthenc Wealth_Theory...   \n",
       "\n",
       "                        urls                                hashtags  \\\n",
       "0                         []                               [bitcoin]   \n",
       "1                         []                                      []   \n",
       "2                         []  [quotes, inspiration, wisdom, bitcoin]   \n",
       "3  [https://t.co/loWJMN0y37]                                     [1]   \n",
       "4  [https://t.co/4DJFheVdAc]                                      []   \n",
       "\n",
       "                                                 ats          created_at  \\\n",
       "0                                                 [] 2021-05-04 02:30:37   \n",
       "1                                                 [] 2021-05-04 02:30:35   \n",
       "2                                                 [] 2021-05-04 02:30:34   \n",
       "3                                         [@betfury] 2021-05-04 02:30:33   \n",
       "4  [@rocket, @minordissent, @sthenc, @Wealth, @Ma... 2021-05-04 02:30:32   \n",
       "\n",
       "   favorite_count  retweet_count  polarity  subjectivity   coordinates  \n",
       "0               0              0       1.0           0.3  (None, None)  \n",
       "1               0              0       0.0           0.0  (None, None)  \n",
       "2               0              0       0.3           0.2  (None, None)  \n",
       "3               0              0       0.3           0.8  (None, None)  \n",
       "4               0              0       0.0           0.0  (None, None)  "
      ]
     },
     "execution_count": 4,
     "metadata": {},
     "output_type": "execute_result"
    }
   ],
   "source": [
    "# All the tweet results are returned in a Pandas DataFrame:\n",
    "s.results_df.head()"
   ]
  },
  {
   "cell_type": "markdown",
   "metadata": {},
   "source": [
    "The columns containing lists (`urls`, `hashtags`, `ats`), can be counted using the `count_list_col_values` function:"
   ]
  },
  {
   "cell_type": "code",
   "execution_count": 5,
   "metadata": {},
   "outputs": [
    {
     "data": {
      "text/plain": [
       "@APompliano       27\n",
       "@AdvBMkhwebane    18\n",
       "@Wealth           15\n",
       "@betfury          15\n",
       "@OTC              14\n",
       "dtype: int64"
      ]
     },
     "execution_count": 5,
     "metadata": {},
     "output_type": "execute_result"
    }
   ],
   "source": [
    "s.count_list_col_values(\"ats\").head()"
   ]
  },
  {
   "cell_type": "markdown",
   "metadata": {},
   "source": [
    "The full JSON file is also stored as an attribute:"
   ]
  },
  {
   "cell_type": "code",
   "execution_count": 6,
   "metadata": {},
   "outputs": [
    {
     "name": "stdout",
     "output_type": "stream",
     "text": [
      "Best thing to do now is to buy #bitcoin while everyone is distracted by eth, doge and the lot\n"
     ]
    }
   ],
   "source": [
    "print(s.results_json[0][\"text\"])"
   ]
  },
  {
   "cell_type": "markdown",
   "metadata": {},
   "source": [
    "Get an estimate of the average tweet frequency for the search term:"
   ]
  },
  {
   "cell_type": "code",
   "execution_count": 7,
   "metadata": {},
   "outputs": [
    {
     "name": "stdout",
     "output_type": "stream",
     "text": [
      "0 days 00:00:01.799000\n"
     ]
    }
   ],
   "source": [
    "print(s.time_per_tweet)"
   ]
  },
  {
   "cell_type": "markdown",
   "metadata": {},
   "source": [
    "Get an estimate of the number of tweets per week about the search term:"
   ]
  },
  {
   "cell_type": "code",
   "execution_count": 8,
   "metadata": {},
   "outputs": [
    {
     "name": "stdout",
     "output_type": "stream",
     "text": [
      "604,800\n"
     ]
    }
   ],
   "source": [
    "print(f\"{s.tweets_per_week:,}\")"
   ]
  },
  {
   "cell_type": "markdown",
   "metadata": {},
   "source": [
    "To facilitate Natural Language Processing, the `results_df` contains a column of the tweet texts, but with URLs, hashtag symbols, and @ symbols removed:"
   ]
  },
  {
   "cell_type": "code",
   "execution_count": 9,
   "metadata": {},
   "outputs": [
    {
     "name": "stdout",
     "output_type": "stream",
     "text": [
      "Best thing to do now is to buy #bitcoin while everyone is distracted by eth, doge and the lot\n"
     ]
    }
   ],
   "source": [
    "print(s.results_df[\"tweet\"][0])"
   ]
  },
  {
   "cell_type": "code",
   "execution_count": 10,
   "metadata": {},
   "outputs": [
    {
     "name": "stdout",
     "output_type": "stream",
     "text": [
      "Best thing to do now is to buy bitcoin while everyone is distracted by eth, doge and the lot\n"
     ]
    }
   ],
   "source": [
    "print(s.results_df[\"stripped_tweet\"][0])"
   ]
  },
  {
   "cell_type": "markdown",
   "metadata": {},
   "source": [
    "`results_df` also contains a simple implementation of sentiment analysis using  <a href=\"https://github.com/sloria/TextBlob\">TextBlob</a>"
   ]
  },
  {
   "cell_type": "code",
   "execution_count": 11,
   "metadata": {},
   "outputs": [
    {
     "data": {
      "text/plain": [
       "0    1.0\n",
       "1    0.0\n",
       "2    0.3\n",
       "3    0.3\n",
       "4    0.0\n",
       "Name: polarity, dtype: float64"
      ]
     },
     "execution_count": 11,
     "metadata": {},
     "output_type": "execute_result"
    }
   ],
   "source": [
    "s.results_df[\"polarity\"].head()"
   ]
  },
  {
   "cell_type": "code",
   "execution_count": 12,
   "metadata": {},
   "outputs": [
    {
     "data": {
      "text/plain": [
       "0    0.3\n",
       "1    0.0\n",
       "2    0.2\n",
       "3    0.8\n",
       "4    0.0\n",
       "Name: subjectivity, dtype: float64"
      ]
     },
     "execution_count": 12,
     "metadata": {},
     "output_type": "execute_result"
    }
   ],
   "source": [
    "s.results_df[\"subjectivity\"].head()"
   ]
  },
  {
   "cell_type": "markdown",
   "metadata": {},
   "source": [
    "### Multiple searches\n",
    "If performing multiple different searches on the same instance of `Tweezers`, a history of the searches is stored at the `search_history` attribute:"
   ]
  },
  {
   "cell_type": "code",
   "execution_count": 13,
   "metadata": {},
   "outputs": [
    {
     "name": "stdout",
     "output_type": "stream",
     "text": [
      "1,000 tweets requested; 1,000 tweets returned\n"
     ]
    }
   ],
   "source": [
    "new_s = t.search(\"elizabeth warren\", total=1000, result_type=\"recent\")"
   ]
  },
  {
   "cell_type": "code",
   "execution_count": 14,
   "metadata": {},
   "outputs": [
    {
     "data": {
      "text/plain": [
       "[TweezerSearch: `bitcoin` (1000 total),\n",
       " TweezerSearch: `elizabeth warren` (1000 total)]"
      ]
     },
     "execution_count": 14,
     "metadata": {},
     "output_type": "execute_result"
    }
   ],
   "source": [
    "t.search_history"
   ]
  },
  {
   "cell_type": "code",
   "execution_count": 15,
   "metadata": {},
   "outputs": [
    {
     "data": {
      "text/html": [
       "<div>\n",
       "<style scoped>\n",
       "    .dataframe tbody tr th:only-of-type {\n",
       "        vertical-align: middle;\n",
       "    }\n",
       "\n",
       "    .dataframe tbody tr th {\n",
       "        vertical-align: top;\n",
       "    }\n",
       "\n",
       "    .dataframe thead th {\n",
       "        text-align: right;\n",
       "    }\n",
       "</style>\n",
       "<table border=\"1\" class=\"dataframe\">\n",
       "  <thead>\n",
       "    <tr style=\"text-align: right;\">\n",
       "      <th></th>\n",
       "      <th>user</th>\n",
       "      <th>tweet</th>\n",
       "      <th>stripped_tweet</th>\n",
       "      <th>urls</th>\n",
       "      <th>hashtags</th>\n",
       "      <th>ats</th>\n",
       "      <th>created_at</th>\n",
       "      <th>favorite_count</th>\n",
       "      <th>retweet_count</th>\n",
       "      <th>polarity</th>\n",
       "      <th>subjectivity</th>\n",
       "      <th>coordinates</th>\n",
       "    </tr>\n",
       "  </thead>\n",
       "  <tbody>\n",
       "    <tr>\n",
       "      <th>0</th>\n",
       "      <td>SheRa_Persists</td>\n",
       "      <td>Don't you get it? When Elizabeth Warren is at ...</td>\n",
       "      <td>Don't you get it? When Elizabeth Warren is at ...</td>\n",
       "      <td>[]</td>\n",
       "      <td>[]</td>\n",
       "      <td>[]</td>\n",
       "      <td>2021-05-04 02:27:21</td>\n",
       "      <td>0</td>\n",
       "      <td>0</td>\n",
       "      <td>-0.150000</td>\n",
       "      <td>0.750</td>\n",
       "      <td>(None, None)</td>\n",
       "    </tr>\n",
       "    <tr>\n",
       "      <th>1</th>\n",
       "      <td>negroalfuturo</td>\n",
       "      <td>Elizabeth Warren is not the reason Bernie didn...</td>\n",
       "      <td>Elizabeth Warren is not the reason Bernie didn...</td>\n",
       "      <td>[https://t.co/LfBnGfYybk]</td>\n",
       "      <td>[]</td>\n",
       "      <td>[]</td>\n",
       "      <td>2021-05-04 02:24:16</td>\n",
       "      <td>0</td>\n",
       "      <td>0</td>\n",
       "      <td>0.183333</td>\n",
       "      <td>0.800</td>\n",
       "      <td>(None, None)</td>\n",
       "    </tr>\n",
       "    <tr>\n",
       "      <th>2</th>\n",
       "      <td>kfairwrites</td>\n",
       "      <td>@ewarren Exactly how I'd react if Elizabeth Wa...</td>\n",
       "      <td>ewarren Exactly how I'd react if Elizabeth War...</td>\n",
       "      <td>[]</td>\n",
       "      <td>[warrendemocrat]</td>\n",
       "      <td>[@ewarren]</td>\n",
       "      <td>2021-05-04 02:18:16</td>\n",
       "      <td>0</td>\n",
       "      <td>0</td>\n",
       "      <td>0.250000</td>\n",
       "      <td>0.250</td>\n",
       "      <td>(None, None)</td>\n",
       "    </tr>\n",
       "    <tr>\n",
       "      <th>3</th>\n",
       "      <td>mongo_ebooks</td>\n",
       "      <td>This is a set on the same soundstage as the El...</td>\n",
       "      <td>This is a set on the same soundstage as the El...</td>\n",
       "      <td>[https://t.co/6o5d25YI20]</td>\n",
       "      <td>[]</td>\n",
       "      <td>[]</td>\n",
       "      <td>2021-05-04 02:17:11</td>\n",
       "      <td>1</td>\n",
       "      <td>0</td>\n",
       "      <td>0.000000</td>\n",
       "      <td>0.125</td>\n",
       "      <td>(None, None)</td>\n",
       "    </tr>\n",
       "    <tr>\n",
       "      <th>4</th>\n",
       "      <td>Imstillalive54</td>\n",
       "      <td>Elizabeth Warren: Democratic party was relucta...</td>\n",
       "      <td>Elizabeth Warren: Democratic party was relucta...</td>\n",
       "      <td>[https://t.co/qmXSzi6a3y]</td>\n",
       "      <td>[]</td>\n",
       "      <td>[]</td>\n",
       "      <td>2021-05-04 02:14:37</td>\n",
       "      <td>0</td>\n",
       "      <td>0</td>\n",
       "      <td>0.000000</td>\n",
       "      <td>0.000</td>\n",
       "      <td>(None, None)</td>\n",
       "    </tr>\n",
       "  </tbody>\n",
       "</table>\n",
       "</div>"
      ],
      "text/plain": [
       "             user                                              tweet  \\\n",
       "0  SheRa_Persists  Don't you get it? When Elizabeth Warren is at ...   \n",
       "1   negroalfuturo  Elizabeth Warren is not the reason Bernie didn...   \n",
       "2     kfairwrites  @ewarren Exactly how I'd react if Elizabeth Wa...   \n",
       "3    mongo_ebooks  This is a set on the same soundstage as the El...   \n",
       "4  Imstillalive54  Elizabeth Warren: Democratic party was relucta...   \n",
       "\n",
       "                                      stripped_tweet  \\\n",
       "0  Don't you get it? When Elizabeth Warren is at ...   \n",
       "1  Elizabeth Warren is not the reason Bernie didn...   \n",
       "2  ewarren Exactly how I'd react if Elizabeth War...   \n",
       "3  This is a set on the same soundstage as the El...   \n",
       "4  Elizabeth Warren: Democratic party was relucta...   \n",
       "\n",
       "                        urls          hashtags         ats  \\\n",
       "0                         []                []          []   \n",
       "1  [https://t.co/LfBnGfYybk]                []          []   \n",
       "2                         []  [warrendemocrat]  [@ewarren]   \n",
       "3  [https://t.co/6o5d25YI20]                []          []   \n",
       "4  [https://t.co/qmXSzi6a3y]                []          []   \n",
       "\n",
       "           created_at  favorite_count  retweet_count  polarity  subjectivity  \\\n",
       "0 2021-05-04 02:27:21               0              0 -0.150000         0.750   \n",
       "1 2021-05-04 02:24:16               0              0  0.183333         0.800   \n",
       "2 2021-05-04 02:18:16               0              0  0.250000         0.250   \n",
       "3 2021-05-04 02:17:11               1              0  0.000000         0.125   \n",
       "4 2021-05-04 02:14:37               0              0  0.000000         0.000   \n",
       "\n",
       "    coordinates  \n",
       "0  (None, None)  \n",
       "1  (None, None)  \n",
       "2  (None, None)  \n",
       "3  (None, None)  \n",
       "4  (None, None)  "
      ]
     },
     "execution_count": 15,
     "metadata": {},
     "output_type": "execute_result"
    }
   ],
   "source": [
    "t.search_history[-1].results_df.head()"
   ]
  }
 ],
 "metadata": {
  "kernelspec": {
   "display_name": "Python 3",
   "language": "python",
   "name": "python3"
  },
  "language_info": {
   "codemirror_mode": {
    "name": "ipython",
    "version": 3
   },
   "file_extension": ".py",
   "mimetype": "text/x-python",
   "name": "python",
   "nbconvert_exporter": "python",
   "pygments_lexer": "ipython3",
   "version": "3.9.2"
  }
 },
 "nbformat": 4,
 "nbformat_minor": 2
}
