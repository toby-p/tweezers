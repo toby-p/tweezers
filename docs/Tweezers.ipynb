{
 "cells": [
  {
   "cell_type": "markdown",
   "metadata": {},
   "source": [
    "# Tweezers\n",
    "A lightweight Python library for really simple data scraping from the Twitter API."
   ]
  },
  {
   "cell_type": "code",
   "execution_count": 1,
   "metadata": {},
   "outputs": [],
   "source": [
    "import os, sys\n",
    "sys.path.append(os.path.dirname(os.getcwd()))\n",
    "\n",
    "from tweezers import Tweezers"
   ]
  },
  {
   "cell_type": "markdown",
   "metadata": {},
   "source": [
    "### Create an instance of Tweezers with API credentials"
   ]
  },
  {
   "cell_type": "code",
   "execution_count": 2,
   "metadata": {},
   "outputs": [
    {
     "name": "stdout",
     "output_type": "stream",
     "text": [
      "Tweezers instance with status code 200\n"
     ]
    }
   ],
   "source": [
    "# Loading Twitter auth credentials from a local JSON file. Get yours here:\n",
    "# https://developer.twitter.com/en/apps/\n",
    "import json\n",
    "\n",
    "fp = os.path.join(os.getcwd(), \"credentials.json\")\n",
    "with open(fp) as f:\n",
    "    credentials = json.load(f)\n",
    "\n",
    "t = Tweezers(api_key=credentials[\"api_key\"], \n",
    "                 api_secret_key=credentials[\"api_secret_key\"], \n",
    "                 access_token=credentials[\"access_token\"], \n",
    "                 access_token_secret=credentials[\"access_token_secret\"]\n",
    "                )\n",
    "print(t)"
   ]
  },
  {
   "cell_type": "markdown",
   "metadata": {},
   "source": [
    "### Perform a search\n",
    "Searching returns an instance of a class `TweezerSearch`, which contains various data attributes returned by the Twitter API:"
   ]
  },
  {
   "cell_type": "code",
   "execution_count": 3,
   "metadata": {},
   "outputs": [
    {
     "name": "stdout",
     "output_type": "stream",
     "text": [
      "1,000 tweets requested; 1,000 tweets returned\n"
     ]
    }
   ],
   "source": [
    "s = t.search(search_term=\"bitcoin\", total=1000, result_type=\"recent\")"
   ]
  },
  {
   "cell_type": "code",
   "execution_count": 4,
   "metadata": {},
   "outputs": [
    {
     "data": {
      "text/html": [
       "<div>\n",
       "<style scoped>\n",
       "    .dataframe tbody tr th:only-of-type {\n",
       "        vertical-align: middle;\n",
       "    }\n",
       "\n",
       "    .dataframe tbody tr th {\n",
       "        vertical-align: top;\n",
       "    }\n",
       "\n",
       "    .dataframe thead th {\n",
       "        text-align: right;\n",
       "    }\n",
       "</style>\n",
       "<table border=\"1\" class=\"dataframe\">\n",
       "  <thead>\n",
       "    <tr style=\"text-align: right;\">\n",
       "      <th></th>\n",
       "      <th>user</th>\n",
       "      <th>tweet</th>\n",
       "      <th>stripped_tweet</th>\n",
       "      <th>urls</th>\n",
       "      <th>hashtags</th>\n",
       "      <th>ats</th>\n",
       "      <th>created_at</th>\n",
       "      <th>favorite_count</th>\n",
       "      <th>retweet_count</th>\n",
       "      <th>polarity</th>\n",
       "      <th>subjectivity</th>\n",
       "      <th>coordinates</th>\n",
       "    </tr>\n",
       "  </thead>\n",
       "  <tbody>\n",
       "    <tr>\n",
       "      <th>0</th>\n",
       "      <td>pinoy287</td>\n",
       "      <td>From now on, I am letting God and Jesus Christ...</td>\n",
       "      <td>From now on, I am letting God and Jesus Christ...</td>\n",
       "      <td>[https://t.co/OTGtghSbgc]</td>\n",
       "      <td>[]</td>\n",
       "      <td>[]</td>\n",
       "      <td>2020-03-04 03:29:44</td>\n",
       "      <td>0</td>\n",
       "      <td>0</td>\n",
       "      <td>0.300</td>\n",
       "      <td>0.5625</td>\n",
       "      <td>(None, None)</td>\n",
       "    </tr>\n",
       "    <tr>\n",
       "      <th>1</th>\n",
       "      <td>Ladin21201021</td>\n",
       "      <td>@bgarlinghouse And that is the reason why you ...</td>\n",
       "      <td>bgarlinghouse And that is the reason why you h...</td>\n",
       "      <td>[]</td>\n",
       "      <td>[]</td>\n",
       "      <td>[@bgarlinghouse]</td>\n",
       "      <td>2020-03-04 03:29:39</td>\n",
       "      <td>0</td>\n",
       "      <td>0</td>\n",
       "      <td>0.000</td>\n",
       "      <td>0.0000</td>\n",
       "      <td>(None, None)</td>\n",
       "    </tr>\n",
       "    <tr>\n",
       "      <th>2</th>\n",
       "      <td>CoinFees</td>\n",
       "      <td>Coin fees for the past hour:\\nBitcoin fees: $0...</td>\n",
       "      <td>Coin fees for the past hour:\\nBitcoin fees: $0...</td>\n",
       "      <td>[https://t.co/qCbFAd2jMk]</td>\n",
       "      <td>[]</td>\n",
       "      <td>[]</td>\n",
       "      <td>2020-03-04 03:29:35</td>\n",
       "      <td>0</td>\n",
       "      <td>0</td>\n",
       "      <td>-0.125</td>\n",
       "      <td>0.1250</td>\n",
       "      <td>(None, None)</td>\n",
       "    </tr>\n",
       "    <tr>\n",
       "      <th>3</th>\n",
       "      <td>bitcoinagile</td>\n",
       "      <td>All eyes on #bitcoin for BINANCE:BTCUSDT by ja...</td>\n",
       "      <td>All eyes on bitcoin for BINANCE:BTCUSDT by jas...</td>\n",
       "      <td>[https://t.co/k3ucD1s2Fp, https://t.co/czPYTvt...</td>\n",
       "      <td>[bitcoin, BTCUSDT]</td>\n",
       "      <td>[]</td>\n",
       "      <td>2020-03-04 03:29:32</td>\n",
       "      <td>0</td>\n",
       "      <td>0</td>\n",
       "      <td>0.000</td>\n",
       "      <td>0.0000</td>\n",
       "      <td>(None, None)</td>\n",
       "    </tr>\n",
       "    <tr>\n",
       "      <th>4</th>\n",
       "      <td>antpool</td>\n",
       "      <td>Math indeed. #Bitcoin @pierre_rochard https://...</td>\n",
       "      <td>Math indeed. Bitcoin pierre_rochard</td>\n",
       "      <td>[https://t.co/KFF5Pw4wOL]</td>\n",
       "      <td>[Bitcoin]</td>\n",
       "      <td>[@pierre]</td>\n",
       "      <td>2020-03-04 03:29:28</td>\n",
       "      <td>0</td>\n",
       "      <td>0</td>\n",
       "      <td>0.000</td>\n",
       "      <td>0.0000</td>\n",
       "      <td>(None, None)</td>\n",
       "    </tr>\n",
       "  </tbody>\n",
       "</table>\n",
       "</div>"
      ],
      "text/plain": [
       "            user                                              tweet  \\\n",
       "0       pinoy287  From now on, I am letting God and Jesus Christ...   \n",
       "1  Ladin21201021  @bgarlinghouse And that is the reason why you ...   \n",
       "2       CoinFees  Coin fees for the past hour:\\nBitcoin fees: $0...   \n",
       "3   bitcoinagile  All eyes on #bitcoin for BINANCE:BTCUSDT by ja...   \n",
       "4        antpool  Math indeed. #Bitcoin @pierre_rochard https://...   \n",
       "\n",
       "                                      stripped_tweet  \\\n",
       "0  From now on, I am letting God and Jesus Christ...   \n",
       "1  bgarlinghouse And that is the reason why you h...   \n",
       "2  Coin fees for the past hour:\\nBitcoin fees: $0...   \n",
       "3  All eyes on bitcoin for BINANCE:BTCUSDT by jas...   \n",
       "4                Math indeed. Bitcoin pierre_rochard   \n",
       "\n",
       "                                                urls            hashtags  \\\n",
       "0                          [https://t.co/OTGtghSbgc]                  []   \n",
       "1                                                 []                  []   \n",
       "2                          [https://t.co/qCbFAd2jMk]                  []   \n",
       "3  [https://t.co/k3ucD1s2Fp, https://t.co/czPYTvt...  [bitcoin, BTCUSDT]   \n",
       "4                          [https://t.co/KFF5Pw4wOL]           [Bitcoin]   \n",
       "\n",
       "                ats          created_at  favorite_count  retweet_count  \\\n",
       "0                [] 2020-03-04 03:29:44               0              0   \n",
       "1  [@bgarlinghouse] 2020-03-04 03:29:39               0              0   \n",
       "2                [] 2020-03-04 03:29:35               0              0   \n",
       "3                [] 2020-03-04 03:29:32               0              0   \n",
       "4         [@pierre] 2020-03-04 03:29:28               0              0   \n",
       "\n",
       "   polarity  subjectivity   coordinates  \n",
       "0     0.300        0.5625  (None, None)  \n",
       "1     0.000        0.0000  (None, None)  \n",
       "2    -0.125        0.1250  (None, None)  \n",
       "3     0.000        0.0000  (None, None)  \n",
       "4     0.000        0.0000  (None, None)  "
      ]
     },
     "execution_count": 4,
     "metadata": {},
     "output_type": "execute_result"
    }
   ],
   "source": [
    "# All the tweet results are returned in a Pandas DataFrame:\n",
    "s.results_df.head()"
   ]
  },
  {
   "cell_type": "markdown",
   "metadata": {},
   "source": [
    "The columns containing lists (`urls`, `hashtags`, `ats`), can be counted using the `count_list_col_values` function:"
   ]
  },
  {
   "cell_type": "code",
   "execution_count": 5,
   "metadata": {},
   "outputs": [
    {
     "data": {
      "text/plain": [
       "@Bitcoin          86\n",
       "@PeterSchiff      81\n",
       "@ahollander314    12\n",
       "@bgarlinghouse    10\n",
       "@girls             7\n",
       "dtype: int64"
      ]
     },
     "execution_count": 5,
     "metadata": {},
     "output_type": "execute_result"
    }
   ],
   "source": [
    "s.count_list_col_values(\"ats\").head()"
   ]
  },
  {
   "cell_type": "markdown",
   "metadata": {},
   "source": [
    "The full JSON file is also stored as an attribute:"
   ]
  },
  {
   "cell_type": "code",
   "execution_count": 6,
   "metadata": {},
   "outputs": [
    {
     "name": "stdout",
     "output_type": "stream",
     "text": [
      "From now on, I am letting God and Jesus Christ plan for my future without me forcing anything. It is for my own goo… https://t.co/OTGtghSbgc\n"
     ]
    }
   ],
   "source": [
    "print(s.results_json[0][\"text\"])"
   ]
  },
  {
   "cell_type": "markdown",
   "metadata": {},
   "source": [
    "Get an estimate of the average tweet frequency for the search term:"
   ]
  },
  {
   "cell_type": "code",
   "execution_count": 7,
   "metadata": {},
   "outputs": [
    {
     "name": "stdout",
     "output_type": "stream",
     "text": [
      "0 days 00:00:04.806000\n"
     ]
    }
   ],
   "source": [
    "print(s.time_per_tweet)"
   ]
  },
  {
   "cell_type": "markdown",
   "metadata": {},
   "source": [
    "Get an estimate of the number of tweets per week about the search term:"
   ]
  },
  {
   "cell_type": "code",
   "execution_count": 8,
   "metadata": {},
   "outputs": [
    {
     "name": "stdout",
     "output_type": "stream",
     "text": [
      "151,200\n"
     ]
    }
   ],
   "source": [
    "print(f\"{s.tweets_per_week:,}\")"
   ]
  },
  {
   "cell_type": "markdown",
   "metadata": {},
   "source": [
    "To facilitate Natural Language Processing, the `results_df` contains a column of the tweet texts, but with URLs, hashtag symbols, and @ symbols removed:"
   ]
  },
  {
   "cell_type": "code",
   "execution_count": 9,
   "metadata": {},
   "outputs": [
    {
     "name": "stdout",
     "output_type": "stream",
     "text": [
      "From now on, I am letting God and Jesus Christ plan for my future without me forcing anything. It is for my own goo… https://t.co/OTGtghSbgc\n"
     ]
    }
   ],
   "source": [
    "print(s.results_df[\"tweet\"][0])"
   ]
  },
  {
   "cell_type": "code",
   "execution_count": 10,
   "metadata": {},
   "outputs": [
    {
     "name": "stdout",
     "output_type": "stream",
     "text": [
      "From now on, I am letting God and Jesus Christ plan for my future without me forcing anything. It is for my own goo…\n"
     ]
    }
   ],
   "source": [
    "print(s.results_df[\"stripped_tweet\"][0])"
   ]
  },
  {
   "cell_type": "markdown",
   "metadata": {},
   "source": [
    "`results_df` also contains a simple implementation of sentiment analysis using  <a href=\"https://github.com/sloria/TextBlob\">TextBlob</a>"
   ]
  },
  {
   "cell_type": "code",
   "execution_count": 11,
   "metadata": {},
   "outputs": [
    {
     "data": {
      "text/plain": [
       "0    0.300\n",
       "1    0.000\n",
       "2   -0.125\n",
       "3    0.000\n",
       "4    0.000\n",
       "Name: polarity, dtype: float64"
      ]
     },
     "execution_count": 11,
     "metadata": {},
     "output_type": "execute_result"
    }
   ],
   "source": [
    "s.results_df[\"polarity\"].head()"
   ]
  },
  {
   "cell_type": "code",
   "execution_count": 12,
   "metadata": {},
   "outputs": [
    {
     "data": {
      "text/plain": [
       "0    0.5625\n",
       "1    0.0000\n",
       "2    0.1250\n",
       "3    0.0000\n",
       "4    0.0000\n",
       "Name: subjectivity, dtype: float64"
      ]
     },
     "execution_count": 12,
     "metadata": {},
     "output_type": "execute_result"
    }
   ],
   "source": [
    "s.results_df[\"subjectivity\"].head()"
   ]
  },
  {
   "cell_type": "markdown",
   "metadata": {},
   "source": [
    "### Multiple searches\n",
    "If performing multiple different searches on the same instance of `Tweezers`, a history of the searches is stored at the `search_history` attribute:"
   ]
  },
  {
   "cell_type": "code",
   "execution_count": 13,
   "metadata": {},
   "outputs": [
    {
     "name": "stdout",
     "output_type": "stream",
     "text": [
      "1,000 tweets requested; 1,000 tweets returned\n"
     ]
    }
   ],
   "source": [
    "new_s = t.search(\"elizabeth warren\", total=1000, result_type=\"recent\")"
   ]
  },
  {
   "cell_type": "code",
   "execution_count": 14,
   "metadata": {},
   "outputs": [
    {
     "data": {
      "text/plain": [
       "[TweezerSearch: `bitcoin` (1000 total),\n",
       " TweezerSearch: `elizabeth warren` (1000 total)]"
      ]
     },
     "execution_count": 14,
     "metadata": {},
     "output_type": "execute_result"
    }
   ],
   "source": [
    "t.search_history"
   ]
  },
  {
   "cell_type": "code",
   "execution_count": 15,
   "metadata": {},
   "outputs": [
    {
     "data": {
      "text/html": [
       "<div>\n",
       "<style scoped>\n",
       "    .dataframe tbody tr th:only-of-type {\n",
       "        vertical-align: middle;\n",
       "    }\n",
       "\n",
       "    .dataframe tbody tr th {\n",
       "        vertical-align: top;\n",
       "    }\n",
       "\n",
       "    .dataframe thead th {\n",
       "        text-align: right;\n",
       "    }\n",
       "</style>\n",
       "<table border=\"1\" class=\"dataframe\">\n",
       "  <thead>\n",
       "    <tr style=\"text-align: right;\">\n",
       "      <th></th>\n",
       "      <th>user</th>\n",
       "      <th>tweet</th>\n",
       "      <th>stripped_tweet</th>\n",
       "      <th>urls</th>\n",
       "      <th>hashtags</th>\n",
       "      <th>ats</th>\n",
       "      <th>created_at</th>\n",
       "      <th>favorite_count</th>\n",
       "      <th>retweet_count</th>\n",
       "      <th>polarity</th>\n",
       "      <th>subjectivity</th>\n",
       "      <th>coordinates</th>\n",
       "    </tr>\n",
       "  </thead>\n",
       "  <tbody>\n",
       "    <tr>\n",
       "      <th>0</th>\n",
       "      <td>Toby_Says</td>\n",
       "      <td>Bernie bros please CALM THE F*CK down. Elizabe...</td>\n",
       "      <td>Bernie bros please CALM THE F*CK down. Elizabe...</td>\n",
       "      <td>[https://t.co/8sR1P5bD4r]</td>\n",
       "      <td>[]</td>\n",
       "      <td>[]</td>\n",
       "      <td>2020-03-04 03:30:22</td>\n",
       "      <td>0</td>\n",
       "      <td>0</td>\n",
       "      <td>0.232540</td>\n",
       "      <td>0.615873</td>\n",
       "      <td>(None, None)</td>\n",
       "    </tr>\n",
       "    <tr>\n",
       "      <th>1</th>\n",
       "      <td>BroBrahSama</td>\n",
       "      <td>Elizabeth Warren kneecapped the progressive mo...</td>\n",
       "      <td>Elizabeth Warren kneecapped the progressive mo...</td>\n",
       "      <td>[https://t.co/UCKYAdoIjA]</td>\n",
       "      <td>[]</td>\n",
       "      <td>[]</td>\n",
       "      <td>2020-03-04 03:30:21</td>\n",
       "      <td>0</td>\n",
       "      <td>0</td>\n",
       "      <td>0.466667</td>\n",
       "      <td>0.466667</td>\n",
       "      <td>(None, None)</td>\n",
       "    </tr>\n",
       "    <tr>\n",
       "      <th>2</th>\n",
       "      <td>Blade_kxy</td>\n",
       "      <td>You guys are all voting freaking bernie sander...</td>\n",
       "      <td>You guys are all voting freaking bernie sander...</td>\n",
       "      <td>[https://t.co/Gr6Nidg8HS]</td>\n",
       "      <td>[]</td>\n",
       "      <td>[]</td>\n",
       "      <td>2020-03-04 03:30:21</td>\n",
       "      <td>0</td>\n",
       "      <td>0</td>\n",
       "      <td>0.000000</td>\n",
       "      <td>0.000000</td>\n",
       "      <td>(None, None)</td>\n",
       "    </tr>\n",
       "    <tr>\n",
       "      <th>3</th>\n",
       "      <td>landishelwig</td>\n",
       "      <td>S/O to Elizabeth Warren for smothering progres...</td>\n",
       "      <td>S/O to Elizabeth Warren for smothering progres...</td>\n",
       "      <td>[https://t.co/B5lDeWXDlb]</td>\n",
       "      <td>[]</td>\n",
       "      <td>[]</td>\n",
       "      <td>2020-03-04 03:30:18</td>\n",
       "      <td>0</td>\n",
       "      <td>0</td>\n",
       "      <td>0.050000</td>\n",
       "      <td>0.262500</td>\n",
       "      <td>(None, None)</td>\n",
       "    </tr>\n",
       "    <tr>\n",
       "      <th>4</th>\n",
       "      <td>GreenRevanchist</td>\n",
       "      <td>Elizabeth Warren destroyed the planet.</td>\n",
       "      <td>Elizabeth Warren destroyed the planet.</td>\n",
       "      <td>[]</td>\n",
       "      <td>[]</td>\n",
       "      <td>[]</td>\n",
       "      <td>2020-03-04 03:30:16</td>\n",
       "      <td>0</td>\n",
       "      <td>0</td>\n",
       "      <td>0.000000</td>\n",
       "      <td>0.000000</td>\n",
       "      <td>(None, None)</td>\n",
       "    </tr>\n",
       "  </tbody>\n",
       "</table>\n",
       "</div>"
      ],
      "text/plain": [
       "              user                                              tweet  \\\n",
       "0        Toby_Says  Bernie bros please CALM THE F*CK down. Elizabe...   \n",
       "1      BroBrahSama  Elizabeth Warren kneecapped the progressive mo...   \n",
       "2        Blade_kxy  You guys are all voting freaking bernie sander...   \n",
       "3     landishelwig  S/O to Elizabeth Warren for smothering progres...   \n",
       "4  GreenRevanchist             Elizabeth Warren destroyed the planet.   \n",
       "\n",
       "                                      stripped_tweet  \\\n",
       "0  Bernie bros please CALM THE F*CK down. Elizabe...   \n",
       "1  Elizabeth Warren kneecapped the progressive mo...   \n",
       "2  You guys are all voting freaking bernie sander...   \n",
       "3  S/O to Elizabeth Warren for smothering progres...   \n",
       "4             Elizabeth Warren destroyed the planet.   \n",
       "\n",
       "                        urls hashtags ats          created_at  favorite_count  \\\n",
       "0  [https://t.co/8sR1P5bD4r]       []  [] 2020-03-04 03:30:22               0   \n",
       "1  [https://t.co/UCKYAdoIjA]       []  [] 2020-03-04 03:30:21               0   \n",
       "2  [https://t.co/Gr6Nidg8HS]       []  [] 2020-03-04 03:30:21               0   \n",
       "3  [https://t.co/B5lDeWXDlb]       []  [] 2020-03-04 03:30:18               0   \n",
       "4                         []       []  [] 2020-03-04 03:30:16               0   \n",
       "\n",
       "   retweet_count  polarity  subjectivity   coordinates  \n",
       "0              0  0.232540      0.615873  (None, None)  \n",
       "1              0  0.466667      0.466667  (None, None)  \n",
       "2              0  0.000000      0.000000  (None, None)  \n",
       "3              0  0.050000      0.262500  (None, None)  \n",
       "4              0  0.000000      0.000000  (None, None)  "
      ]
     },
     "execution_count": 15,
     "metadata": {},
     "output_type": "execute_result"
    }
   ],
   "source": [
    "t.search_history[-1].results_df.head()"
   ]
  }
 ],
 "metadata": {
  "kernelspec": {
   "display_name": "Python 3",
   "language": "python",
   "name": "python3"
  },
  "language_info": {
   "codemirror_mode": {
    "name": "ipython",
    "version": 3
   },
   "file_extension": ".py",
   "mimetype": "text/x-python",
   "name": "python",
   "nbconvert_exporter": "python",
   "pygments_lexer": "ipython3",
   "version": "3.7.3"
  }
 },
 "nbformat": 4,
 "nbformat_minor": 2
}
