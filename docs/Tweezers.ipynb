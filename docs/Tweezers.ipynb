{
 "cells": [
  {
   "cell_type": "markdown",
   "metadata": {},
   "source": [
    "# Tweezers\n",
    "A lightweight Python library for really simple data scraping from the Twitter API."
   ]
  },
  {
   "cell_type": "code",
   "execution_count": 1,
   "metadata": {},
   "outputs": [],
   "source": [
    "import os, sys\n",
    "sys.path.append(os.path.dirname(os.getcwd()))\n",
    "\n",
    "from tweezers import Tweezers"
   ]
  },
  {
   "cell_type": "markdown",
   "metadata": {},
   "source": [
    "### Create an instance of Tweezers with API credentials"
   ]
  },
  {
   "cell_type": "code",
   "execution_count": 2,
   "metadata": {},
   "outputs": [
    {
     "name": "stdout",
     "output_type": "stream",
     "text": [
      "Tweezers instance with status code 200\n"
     ]
    }
   ],
   "source": [
    "# Loading Twitter auth credentials from a local JSON file. Get yours here:\n",
    "# https://developer.twitter.com/en/apps/\n",
    "import json\n",
    "\n",
    "fp = os.path.join(os.getcwd(), \"credentials.json\")\n",
    "with open(fp) as f:\n",
    "    credentials = json.load(f)\n",
    "\n",
    "t = Tweezers(api_key=credentials[\"api_key\"], \n",
    "             api_secret_key=credentials[\"api_secret_key\"], \n",
    "             access_token=credentials[\"access_token\"], \n",
    "             access_token_secret=credentials[\"access_token_secret\"]\n",
    "            )\n",
    "print(t)"
   ]
  },
  {
   "cell_type": "markdown",
   "metadata": {},
   "source": [
    "### Perform a search\n",
    "Searching returns an instance of a class `TweezerSearch`, which contains various data attributes returned by the Twitter API:"
   ]
  },
  {
   "cell_type": "code",
   "execution_count": 3,
   "metadata": {},
   "outputs": [
    {
     "name": "stdout",
     "output_type": "stream",
     "text": [
      "1,000 tweets requested; 1,000 tweets returned\n"
     ]
    }
   ],
   "source": [
    "s = t.search(search_term=\"bitcoin\", total=1000, result_type=\"recent\")"
   ]
  },
  {
   "cell_type": "code",
   "execution_count": 4,
   "metadata": {},
   "outputs": [
    {
     "data": {
      "text/html": [
       "<div>\n",
       "<style scoped>\n",
       "    .dataframe tbody tr th:only-of-type {\n",
       "        vertical-align: middle;\n",
       "    }\n",
       "\n",
       "    .dataframe tbody tr th {\n",
       "        vertical-align: top;\n",
       "    }\n",
       "\n",
       "    .dataframe thead th {\n",
       "        text-align: right;\n",
       "    }\n",
       "</style>\n",
       "<table border=\"1\" class=\"dataframe\">\n",
       "  <thead>\n",
       "    <tr style=\"text-align: right;\">\n",
       "      <th></th>\n",
       "      <th>user</th>\n",
       "      <th>tweet</th>\n",
       "      <th>stripped_tweet</th>\n",
       "      <th>urls</th>\n",
       "      <th>hashtags</th>\n",
       "      <th>ats</th>\n",
       "      <th>created_at</th>\n",
       "      <th>favorite_count</th>\n",
       "      <th>retweet_count</th>\n",
       "      <th>polarity</th>\n",
       "      <th>subjectivity</th>\n",
       "      <th>coordinates</th>\n",
       "    </tr>\n",
       "  </thead>\n",
       "  <tbody>\n",
       "    <tr>\n",
       "      <th>0</th>\n",
       "      <td>Misbahu47726195</td>\n",
       "      <td>Dowload &amp;amp; Install Brave Browser. Get BAT R...</td>\n",
       "      <td>Dowload &amp;amp; Install Brave Browser. Get BAT R...</td>\n",
       "      <td>[https://t.co/2c7ZctrkdF, https://t.co/q2q4jbW...</td>\n",
       "      <td>[browser, brave, BATtoken]</td>\n",
       "      <td>[]</td>\n",
       "      <td>2020-03-04 04:26:49</td>\n",
       "      <td>0</td>\n",
       "      <td>0</td>\n",
       "      <td>0.9</td>\n",
       "      <td>1.00</td>\n",
       "      <td>(None, None)</td>\n",
       "    </tr>\n",
       "    <tr>\n",
       "      <th>1</th>\n",
       "      <td>miiyuwa</td>\n",
       "      <td>#Bitcoin is inevitable. https://t.co/4zQow82PIH</td>\n",
       "      <td>Bitcoin is inevitable.</td>\n",
       "      <td>[https://t.co/4zQow82PIH]</td>\n",
       "      <td>[Bitcoin]</td>\n",
       "      <td>[]</td>\n",
       "      <td>2020-03-04 04:26:49</td>\n",
       "      <td>0</td>\n",
       "      <td>0</td>\n",
       "      <td>0.0</td>\n",
       "      <td>1.00</td>\n",
       "      <td>(None, None)</td>\n",
       "    </tr>\n",
       "    <tr>\n",
       "      <th>2</th>\n",
       "      <td>bitcoinvaluebot</td>\n",
       "      <td>Current Bitcoin Price\\nAll Forks = $9392.02 📈 ...</td>\n",
       "      <td>Current Bitcoin Price\\nAll Forks = $9392.02 📈 ...</td>\n",
       "      <td>[]</td>\n",
       "      <td>[]</td>\n",
       "      <td>[]</td>\n",
       "      <td>2020-03-04 04:26:32</td>\n",
       "      <td>0</td>\n",
       "      <td>0</td>\n",
       "      <td>0.0</td>\n",
       "      <td>0.40</td>\n",
       "      <td>(None, None)</td>\n",
       "    </tr>\n",
       "    <tr>\n",
       "      <th>3</th>\n",
       "      <td>danlyke</td>\n",
       "      <td>This is kind of a point: We worry about the en...</td>\n",
       "      <td>This is kind of a point: We worry about the en...</td>\n",
       "      <td>[https://t.co/LxBytKpBXg]</td>\n",
       "      <td>[]</td>\n",
       "      <td>[]</td>\n",
       "      <td>2020-03-04 04:26:29</td>\n",
       "      <td>0</td>\n",
       "      <td>0</td>\n",
       "      <td>0.4</td>\n",
       "      <td>0.55</td>\n",
       "      <td>(None, None)</td>\n",
       "    </tr>\n",
       "    <tr>\n",
       "      <th>4</th>\n",
       "      <td>botbaitclick</td>\n",
       "      <td>10 ways to maximise your wealth. #bitcoin #cli...</td>\n",
       "      <td>10 ways to maximise your wealth. bitcoin click...</td>\n",
       "      <td>[]</td>\n",
       "      <td>[bitcoin, clickbait]</td>\n",
       "      <td>[]</td>\n",
       "      <td>2020-03-04 04:26:18</td>\n",
       "      <td>0</td>\n",
       "      <td>0</td>\n",
       "      <td>0.0</td>\n",
       "      <td>0.00</td>\n",
       "      <td>(None, None)</td>\n",
       "    </tr>\n",
       "  </tbody>\n",
       "</table>\n",
       "</div>"
      ],
      "text/plain": [
       "              user                                              tweet  \\\n",
       "0  Misbahu47726195  Dowload &amp; Install Brave Browser. Get BAT R...   \n",
       "1          miiyuwa    #Bitcoin is inevitable. https://t.co/4zQow82PIH   \n",
       "2  bitcoinvaluebot  Current Bitcoin Price\\nAll Forks = $9392.02 📈 ...   \n",
       "3          danlyke  This is kind of a point: We worry about the en...   \n",
       "4     botbaitclick  10 ways to maximise your wealth. #bitcoin #cli...   \n",
       "\n",
       "                                      stripped_tweet  \\\n",
       "0  Dowload &amp; Install Brave Browser. Get BAT R...   \n",
       "1                             Bitcoin is inevitable.   \n",
       "2  Current Bitcoin Price\\nAll Forks = $9392.02 📈 ...   \n",
       "3  This is kind of a point: We worry about the en...   \n",
       "4  10 ways to maximise your wealth. bitcoin click...   \n",
       "\n",
       "                                                urls  \\\n",
       "0  [https://t.co/2c7ZctrkdF, https://t.co/q2q4jbW...   \n",
       "1                          [https://t.co/4zQow82PIH]   \n",
       "2                                                 []   \n",
       "3                          [https://t.co/LxBytKpBXg]   \n",
       "4                                                 []   \n",
       "\n",
       "                     hashtags ats          created_at  favorite_count  \\\n",
       "0  [browser, brave, BATtoken]  [] 2020-03-04 04:26:49               0   \n",
       "1                   [Bitcoin]  [] 2020-03-04 04:26:49               0   \n",
       "2                          []  [] 2020-03-04 04:26:32               0   \n",
       "3                          []  [] 2020-03-04 04:26:29               0   \n",
       "4        [bitcoin, clickbait]  [] 2020-03-04 04:26:18               0   \n",
       "\n",
       "   retweet_count  polarity  subjectivity   coordinates  \n",
       "0              0       0.9          1.00  (None, None)  \n",
       "1              0       0.0          1.00  (None, None)  \n",
       "2              0       0.0          0.40  (None, None)  \n",
       "3              0       0.4          0.55  (None, None)  \n",
       "4              0       0.0          0.00  (None, None)  "
      ]
     },
     "execution_count": 4,
     "metadata": {},
     "output_type": "execute_result"
    }
   ],
   "source": [
    "# All the tweet results are returned in a Pandas DataFrame:\n",
    "s.results_df.head()"
   ]
  },
  {
   "cell_type": "markdown",
   "metadata": {},
   "source": [
    "The columns containing lists (`urls`, `hashtags`, `ats`), can be counted using the `count_list_col_values` function:"
   ]
  },
  {
   "cell_type": "code",
   "execution_count": 5,
   "metadata": {},
   "outputs": [
    {
     "data": {
      "text/plain": [
       "@Bitcoin          74\n",
       "@PeterSchiff      64\n",
       "@binance          15\n",
       "@bgarlinghouse     9\n",
       "@ethereum          6\n",
       "dtype: int64"
      ]
     },
     "execution_count": 5,
     "metadata": {},
     "output_type": "execute_result"
    }
   ],
   "source": [
    "s.count_list_col_values(\"ats\").head()"
   ]
  },
  {
   "cell_type": "markdown",
   "metadata": {},
   "source": [
    "The full JSON file is also stored as an attribute:"
   ]
  },
  {
   "cell_type": "code",
   "execution_count": 6,
   "metadata": {},
   "outputs": [
    {
     "name": "stdout",
     "output_type": "stream",
     "text": [
      "Dowload &amp; Install Brave Browser. Get BAT Reward! Download here https://t.co/2c7ZctrkdF #browser #brave #BATtoken… https://t.co/q2q4jbW2EC\n"
     ]
    }
   ],
   "source": [
    "print(s.results_json[0][\"text\"])"
   ]
  },
  {
   "cell_type": "markdown",
   "metadata": {},
   "source": [
    "Get an estimate of the average tweet frequency for the search term:"
   ]
  },
  {
   "cell_type": "code",
   "execution_count": 7,
   "metadata": {},
   "outputs": [
    {
     "name": "stdout",
     "output_type": "stream",
     "text": [
      "0 days 00:00:05.418000\n"
     ]
    }
   ],
   "source": [
    "print(s.time_per_tweet)"
   ]
  },
  {
   "cell_type": "markdown",
   "metadata": {},
   "source": [
    "Get an estimate of the number of tweets per week about the search term:"
   ]
  },
  {
   "cell_type": "code",
   "execution_count": 8,
   "metadata": {},
   "outputs": [
    {
     "name": "stdout",
     "output_type": "stream",
     "text": [
      "120,960\n"
     ]
    }
   ],
   "source": [
    "print(f\"{s.tweets_per_week:,}\")"
   ]
  },
  {
   "cell_type": "markdown",
   "metadata": {},
   "source": [
    "To facilitate Natural Language Processing, the `results_df` contains a column of the tweet texts, but with URLs, hashtag symbols, and @ symbols removed:"
   ]
  },
  {
   "cell_type": "code",
   "execution_count": 9,
   "metadata": {},
   "outputs": [
    {
     "name": "stdout",
     "output_type": "stream",
     "text": [
      "Dowload &amp; Install Brave Browser. Get BAT Reward! Download here https://t.co/2c7ZctrkdF #browser #brave #BATtoken… https://t.co/q2q4jbW2EC\n"
     ]
    }
   ],
   "source": [
    "print(s.results_df[\"tweet\"][0])"
   ]
  },
  {
   "cell_type": "code",
   "execution_count": 10,
   "metadata": {},
   "outputs": [
    {
     "name": "stdout",
     "output_type": "stream",
     "text": [
      "Dowload &amp; Install Brave Browser. Get BAT Reward! Download here browser brave BATtoken…\n"
     ]
    }
   ],
   "source": [
    "print(s.results_df[\"stripped_tweet\"][0])"
   ]
  },
  {
   "cell_type": "markdown",
   "metadata": {},
   "source": [
    "`results_df` also contains a simple implementation of sentiment analysis using  <a href=\"https://github.com/sloria/TextBlob\">TextBlob</a>"
   ]
  },
  {
   "cell_type": "code",
   "execution_count": 11,
   "metadata": {},
   "outputs": [
    {
     "data": {
      "text/plain": [
       "0    0.9\n",
       "1    0.0\n",
       "2    0.0\n",
       "3    0.4\n",
       "4    0.0\n",
       "Name: polarity, dtype: float64"
      ]
     },
     "execution_count": 11,
     "metadata": {},
     "output_type": "execute_result"
    }
   ],
   "source": [
    "s.results_df[\"polarity\"].head()"
   ]
  },
  {
   "cell_type": "code",
   "execution_count": 12,
   "metadata": {},
   "outputs": [
    {
     "data": {
      "text/plain": [
       "0    1.00\n",
       "1    1.00\n",
       "2    0.40\n",
       "3    0.55\n",
       "4    0.00\n",
       "Name: subjectivity, dtype: float64"
      ]
     },
     "execution_count": 12,
     "metadata": {},
     "output_type": "execute_result"
    }
   ],
   "source": [
    "s.results_df[\"subjectivity\"].head()"
   ]
  },
  {
   "cell_type": "markdown",
   "metadata": {},
   "source": [
    "### Multiple searches\n",
    "If performing multiple different searches on the same instance of `Tweezers`, a history of the searches is stored at the `search_history` attribute:"
   ]
  },
  {
   "cell_type": "code",
   "execution_count": 13,
   "metadata": {},
   "outputs": [
    {
     "name": "stdout",
     "output_type": "stream",
     "text": [
      "1,000 tweets requested; 1,000 tweets returned\n"
     ]
    }
   ],
   "source": [
    "new_s = t.search(\"elizabeth warren\", total=1000, result_type=\"recent\")"
   ]
  },
  {
   "cell_type": "code",
   "execution_count": 14,
   "metadata": {},
   "outputs": [
    {
     "data": {
      "text/plain": [
       "[TweezerSearch: `bitcoin` (1000 total),\n",
       " TweezerSearch: `elizabeth warren` (1000 total)]"
      ]
     },
     "execution_count": 14,
     "metadata": {},
     "output_type": "execute_result"
    }
   ],
   "source": [
    "t.search_history"
   ]
  },
  {
   "cell_type": "code",
   "execution_count": 15,
   "metadata": {},
   "outputs": [
    {
     "data": {
      "text/html": [
       "<div>\n",
       "<style scoped>\n",
       "    .dataframe tbody tr th:only-of-type {\n",
       "        vertical-align: middle;\n",
       "    }\n",
       "\n",
       "    .dataframe tbody tr th {\n",
       "        vertical-align: top;\n",
       "    }\n",
       "\n",
       "    .dataframe thead th {\n",
       "        text-align: right;\n",
       "    }\n",
       "</style>\n",
       "<table border=\"1\" class=\"dataframe\">\n",
       "  <thead>\n",
       "    <tr style=\"text-align: right;\">\n",
       "      <th></th>\n",
       "      <th>user</th>\n",
       "      <th>tweet</th>\n",
       "      <th>stripped_tweet</th>\n",
       "      <th>urls</th>\n",
       "      <th>hashtags</th>\n",
       "      <th>ats</th>\n",
       "      <th>created_at</th>\n",
       "      <th>favorite_count</th>\n",
       "      <th>retweet_count</th>\n",
       "      <th>polarity</th>\n",
       "      <th>subjectivity</th>\n",
       "      <th>coordinates</th>\n",
       "    </tr>\n",
       "  </thead>\n",
       "  <tbody>\n",
       "    <tr>\n",
       "      <th>0</th>\n",
       "      <td>RLubbin</td>\n",
       "      <td>@realDonaldTrump @BenSotoKarass The other Demo...</td>\n",
       "      <td>realDonaldTrump BenSotoKarass The other Democr...</td>\n",
       "      <td>[https://t.co/tvNmSQQgsu]</td>\n",
       "      <td>[]</td>\n",
       "      <td>[@realDonaldTrump, @BenSotoKarass]</td>\n",
       "      <td>2020-03-04 04:27:13</td>\n",
       "      <td>0</td>\n",
       "      <td>0</td>\n",
       "      <td>-0.125000</td>\n",
       "      <td>0.375000</td>\n",
       "      <td>(None, None)</td>\n",
       "    </tr>\n",
       "    <tr>\n",
       "      <th>1</th>\n",
       "      <td>5mintuesTurkish</td>\n",
       "      <td>Bernie would of won Maine, Massachusetts &amp;amp;...</td>\n",
       "      <td>Bernie would of won Maine, Massachusetts &amp;amp;...</td>\n",
       "      <td>[https://t.co/dl4Ufs4SBN]</td>\n",
       "      <td>[]</td>\n",
       "      <td>[]</td>\n",
       "      <td>2020-03-04 04:27:12</td>\n",
       "      <td>0</td>\n",
       "      <td>0</td>\n",
       "      <td>-0.200000</td>\n",
       "      <td>0.800000</td>\n",
       "      <td>(None, None)</td>\n",
       "    </tr>\n",
       "    <tr>\n",
       "      <th>2</th>\n",
       "      <td>The_Mr_Innocent</td>\n",
       "      <td>The actual audacity of Elizabeth Warren to act...</td>\n",
       "      <td>The actual audacity of Elizabeth Warren to act...</td>\n",
       "      <td>[]</td>\n",
       "      <td>[]</td>\n",
       "      <td>[]</td>\n",
       "      <td>2020-03-04 04:27:10</td>\n",
       "      <td>0</td>\n",
       "      <td>0</td>\n",
       "      <td>0.300000</td>\n",
       "      <td>0.550000</td>\n",
       "      <td>(None, None)</td>\n",
       "    </tr>\n",
       "    <tr>\n",
       "      <th>3</th>\n",
       "      <td>nate_kersey</td>\n",
       "      <td>pouring the entire bottle out for my girl Eliz...</td>\n",
       "      <td>pouring the entire bottle out for my girl Eliz...</td>\n",
       "      <td>[https://t.co/bWGOrZXYRk]</td>\n",
       "      <td>[]</td>\n",
       "      <td>[]</td>\n",
       "      <td>2020-03-04 04:27:10</td>\n",
       "      <td>0</td>\n",
       "      <td>0</td>\n",
       "      <td>-0.097222</td>\n",
       "      <td>0.422222</td>\n",
       "      <td>(None, None)</td>\n",
       "    </tr>\n",
       "    <tr>\n",
       "      <th>4</th>\n",
       "      <td>gafespec</td>\n",
       "      <td>Elizabeth Warren is refusing to drop out despi...</td>\n",
       "      <td>Elizabeth Warren is refusing to drop out despi...</td>\n",
       "      <td>[https://t.co/Sl1DmrXvYp]</td>\n",
       "      <td>[]</td>\n",
       "      <td>[]</td>\n",
       "      <td>2020-03-04 04:27:07</td>\n",
       "      <td>0</td>\n",
       "      <td>0</td>\n",
       "      <td>0.000000</td>\n",
       "      <td>0.000000</td>\n",
       "      <td>(None, None)</td>\n",
       "    </tr>\n",
       "  </tbody>\n",
       "</table>\n",
       "</div>"
      ],
      "text/plain": [
       "              user                                              tweet  \\\n",
       "0          RLubbin  @realDonaldTrump @BenSotoKarass The other Demo...   \n",
       "1  5mintuesTurkish  Bernie would of won Maine, Massachusetts &amp;...   \n",
       "2  The_Mr_Innocent  The actual audacity of Elizabeth Warren to act...   \n",
       "3      nate_kersey  pouring the entire bottle out for my girl Eliz...   \n",
       "4         gafespec  Elizabeth Warren is refusing to drop out despi...   \n",
       "\n",
       "                                      stripped_tweet  \\\n",
       "0  realDonaldTrump BenSotoKarass The other Democr...   \n",
       "1  Bernie would of won Maine, Massachusetts &amp;...   \n",
       "2  The actual audacity of Elizabeth Warren to act...   \n",
       "3  pouring the entire bottle out for my girl Eliz...   \n",
       "4  Elizabeth Warren is refusing to drop out despi...   \n",
       "\n",
       "                        urls hashtags                                 ats  \\\n",
       "0  [https://t.co/tvNmSQQgsu]       []  [@realDonaldTrump, @BenSotoKarass]   \n",
       "1  [https://t.co/dl4Ufs4SBN]       []                                  []   \n",
       "2                         []       []                                  []   \n",
       "3  [https://t.co/bWGOrZXYRk]       []                                  []   \n",
       "4  [https://t.co/Sl1DmrXvYp]       []                                  []   \n",
       "\n",
       "           created_at  favorite_count  retweet_count  polarity  subjectivity  \\\n",
       "0 2020-03-04 04:27:13               0              0 -0.125000      0.375000   \n",
       "1 2020-03-04 04:27:12               0              0 -0.200000      0.800000   \n",
       "2 2020-03-04 04:27:10               0              0  0.300000      0.550000   \n",
       "3 2020-03-04 04:27:10               0              0 -0.097222      0.422222   \n",
       "4 2020-03-04 04:27:07               0              0  0.000000      0.000000   \n",
       "\n",
       "    coordinates  \n",
       "0  (None, None)  \n",
       "1  (None, None)  \n",
       "2  (None, None)  \n",
       "3  (None, None)  \n",
       "4  (None, None)  "
      ]
     },
     "execution_count": 15,
     "metadata": {},
     "output_type": "execute_result"
    }
   ],
   "source": [
    "t.search_history[-1].results_df.head()"
   ]
  }
 ],
 "metadata": {
  "kernelspec": {
   "display_name": "Python 3",
   "language": "python",
   "name": "python3"
  },
  "language_info": {
   "codemirror_mode": {
    "name": "ipython",
    "version": 3
   },
   "file_extension": ".py",
   "mimetype": "text/x-python",
   "name": "python",
   "nbconvert_exporter": "python",
   "pygments_lexer": "ipython3",
   "version": "3.7.3"
  }
 },
 "nbformat": 4,
 "nbformat_minor": 2
}
