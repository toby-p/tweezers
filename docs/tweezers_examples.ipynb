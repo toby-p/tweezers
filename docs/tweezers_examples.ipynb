{
 "cells": [
  {
   "cell_type": "markdown",
   "metadata": {},
   "source": [
    "# tweezers\n",
    "### Python library for twitter data analysis.\n",
    "Tweezers leverages the power of *requests* and *pandas* to provide a simple interface to scrape Twitter data and shape it into easy-to-analyse lists, dataframes, and metadata."
   ]
  },
  {
   "cell_type": "code",
   "execution_count": 1,
   "metadata": {
    "collapsed": true
   },
   "outputs": [],
   "source": [
    "import tweezers"
   ]
  },
  {
   "cell_type": "markdown",
   "metadata": {},
   "source": [
    "#### First create a connection to the API with twitter credentials"
   ]
  },
  {
   "cell_type": "code",
   "execution_count": 2,
   "metadata": {
    "collapsed": true
   },
   "outputs": [],
   "source": [
    "# Twitter auth credentials loaded from a locally stored json file.\n",
    "import json\n",
    "credentials = json.load(open(\"../../credentials/twitter_credentials.json\"))\n",
    "\n",
    "consumer_key = credentials['consumer_key']\n",
    "consumer_secret = credentials['consumer_secret']\n",
    "access_token = credentials['access_token']\n",
    "access_token_secret = credentials['access_token_secret']\n",
    "\n",
    "auth = tweezers.tweezer_auth(consumer_key, \n",
    "                             consumer_secret,\n",
    "                             access_token,\n",
    "                             access_token_secret)"
   ]
  },
  {
   "cell_type": "markdown",
   "metadata": {},
   "source": [
    "Verify the credentials have successfully connected with Twitter"
   ]
  },
  {
   "cell_type": "code",
   "execution_count": 3,
   "metadata": {},
   "outputs": [
    {
     "data": {
      "text/plain": [
       "'Congratulations! Your credentials are valid.'"
      ]
     },
     "execution_count": 3,
     "metadata": {},
     "output_type": "execute_result"
    }
   ],
   "source": [
    "auth.verify()"
   ]
  },
  {
   "cell_type": "markdown",
   "metadata": {},
   "source": [
    "#### Now perform a search. Simply specify the number of tweets!"
   ]
  },
  {
   "cell_type": "code",
   "execution_count": 4,
   "metadata": {},
   "outputs": [
    {
     "name": "stdout",
     "output_type": "stream",
     "text": [
      "1000 tweets requested, 1000 tweets returned\n"
     ]
    }
   ],
   "source": [
    "my_search = tweezers.search(tweezer_auth = auth,\n",
    "                            total = 1000,\n",
    "                            search_term = \"bitcoin\")"
   ]
  },
  {
   "cell_type": "markdown",
   "metadata": {},
   "source": [
    "The search object create provides access to a number of methods for retrieving lists, dataframes and search metadata."
   ]
  },
  {
   "cell_type": "code",
   "execution_count": 5,
   "metadata": {},
   "outputs": [
    {
     "data": {
      "image/png": "[encoded data removed]",
      "text/plain": [
       "<IPython.core.display.Image object>"
      ]
     },
     "execution_count": 5,
     "metadata": {},
     "output_type": "execute_result"
    }
   ],
   "source": [
    "from IPython.display import Image\n",
    "Image(\"./images/search.methods.PNG\")"
   ]
  },
  {
   "cell_type": "markdown",
   "metadata": {},
   "source": [
    "Get a list of the tweet features returned by the search:"
   ]
  },
  {
   "cell_type": "code",
   "execution_count": 6,
   "metadata": {},
   "outputs": [
    {
     "data": {
      "text/plain": [
       "['created_at',\n",
       " 'id',\n",
       " 'id_str',\n",
       " 'text',\n",
       " 'truncated',\n",
       " 'entities',\n",
       " 'metadata',\n",
       " 'source',\n",
       " 'in_reply_to_status_id',\n",
       " 'in_reply_to_status_id_str',\n",
       " 'in_reply_to_user_id',\n",
       " 'in_reply_to_user_id_str',\n",
       " 'in_reply_to_screen_name',\n",
       " 'user',\n",
       " 'geo',\n",
       " 'coordinates',\n",
       " 'place',\n",
       " 'contributors',\n",
       " 'is_quote_status',\n",
       " 'retweet_count',\n",
       " 'favorite_count',\n",
       " 'favorited',\n",
       " 'retweeted',\n",
       " 'possibly_sensitive',\n",
       " 'lang']"
      ]
     },
     "execution_count": 6,
     "metadata": {},
     "output_type": "execute_result"
    }
   ],
   "source": [
    "my_search.tweet_features"
   ]
  },
  {
   "cell_type": "markdown",
   "metadata": {},
   "source": [
    "Choose a feature and get a list of that feature for every tweet returned:"
   ]
  },
  {
   "cell_type": "code",
   "execution_count": 7,
   "metadata": {},
   "outputs": [
    {
     "data": {
      "text/plain": [
       "['Fri Sep 08 12:53:46 +0000 2017',\n",
       " 'Fri Sep 08 12:53:46 +0000 2017',\n",
       " 'Fri Sep 08 12:53:36 +0000 2017',\n",
       " 'Fri Sep 08 12:53:30 +0000 2017',\n",
       " 'Fri Sep 08 12:53:23 +0000 2017',\n",
       " 'Fri Sep 08 12:53:22 +0000 2017',\n",
       " 'Fri Sep 08 12:53:13 +0000 2017',\n",
       " 'Fri Sep 08 12:53:13 +0000 2017',\n",
       " 'Fri Sep 08 12:53:11 +0000 2017',\n",
       " 'Fri Sep 08 12:53:03 +0000 2017']"
      ]
     },
     "execution_count": 7,
     "metadata": {},
     "output_type": "execute_result"
    }
   ],
   "source": [
    "my_search.list_tweet_feature(feature = \"created_at\")[:10]"
   ]
  },
  {
   "cell_type": "markdown",
   "metadata": {},
   "source": [
    "Get a dataframe summary of the number of users, mentions, hashtags, or URLs in the tweets returned by the search."
   ]
  },
  {
   "cell_type": "code",
   "execution_count": 8,
   "metadata": {},
   "outputs": [
    {
     "data": {
      "text/html": [
       "<div>\n",
       "<style>\n",
       "    .dataframe thead tr:only-child th {\n",
       "        text-align: right;\n",
       "    }\n",
       "\n",
       "    .dataframe thead th {\n",
       "        text-align: left;\n",
       "    }\n",
       "\n",
       "    .dataframe tbody tr th {\n",
       "        vertical-align: top;\n",
       "    }\n",
       "</style>\n",
       "<table border=\"1\" class=\"dataframe\">\n",
       "  <thead>\n",
       "    <tr style=\"text-align: right;\">\n",
       "      <th></th>\n",
       "      <th>users</th>\n",
       "      <th>count</th>\n",
       "    </tr>\n",
       "  </thead>\n",
       "  <tbody>\n",
       "    <tr>\n",
       "      <th>0</th>\n",
       "      <td>uasociolog</td>\n",
       "      <td>16</td>\n",
       "    </tr>\n",
       "    <tr>\n",
       "      <th>1</th>\n",
       "      <td>StakepoolCom</td>\n",
       "      <td>14</td>\n",
       "    </tr>\n",
       "    <tr>\n",
       "      <th>2</th>\n",
       "      <td>SportsbookBTC</td>\n",
       "      <td>12</td>\n",
       "    </tr>\n",
       "    <tr>\n",
       "      <th>3</th>\n",
       "      <td>ewpaisley</td>\n",
       "      <td>11</td>\n",
       "    </tr>\n",
       "    <tr>\n",
       "      <th>4</th>\n",
       "      <td>lionfxpartners</td>\n",
       "      <td>11</td>\n",
       "    </tr>\n",
       "  </tbody>\n",
       "</table>\n",
       "</div>"
      ],
      "text/plain": [
       "            users  count\n",
       "0      uasociolog     16\n",
       "1    StakepoolCom     14\n",
       "2   SportsbookBTC     12\n",
       "3       ewpaisley     11\n",
       "4  lionfxpartners     11"
      ]
     },
     "execution_count": 8,
     "metadata": {},
     "output_type": "execute_result"
    }
   ],
   "source": [
    "my_search.users_df().head()"
   ]
  },
  {
   "cell_type": "code",
   "execution_count": 9,
   "metadata": {},
   "outputs": [
    {
     "data": {
      "text/html": [
       "<div>\n",
       "<style>\n",
       "    .dataframe thead tr:only-child th {\n",
       "        text-align: right;\n",
       "    }\n",
       "\n",
       "    .dataframe thead th {\n",
       "        text-align: left;\n",
       "    }\n",
       "\n",
       "    .dataframe tbody tr th {\n",
       "        vertical-align: top;\n",
       "    }\n",
       "</style>\n",
       "<table border=\"1\" class=\"dataframe\">\n",
       "  <thead>\n",
       "    <tr style=\"text-align: right;\">\n",
       "      <th></th>\n",
       "      <th>mentions</th>\n",
       "      <th>count</th>\n",
       "    </tr>\n",
       "  </thead>\n",
       "  <tbody>\n",
       "    <tr>\n",
       "      <th>0</th>\n",
       "      <td>@YouTube</td>\n",
       "      <td>12</td>\n",
       "    </tr>\n",
       "    <tr>\n",
       "      <th>1</th>\n",
       "      <td>@GenesisMining</td>\n",
       "      <td>8</td>\n",
       "    </tr>\n",
       "    <tr>\n",
       "      <th>2</th>\n",
       "      <td>@blockchainbiz</td>\n",
       "      <td>6</td>\n",
       "    </tr>\n",
       "    <tr>\n",
       "      <th>3</th>\n",
       "      <td>@bitcoin</td>\n",
       "      <td>4</td>\n",
       "    </tr>\n",
       "    <tr>\n",
       "      <th>4</th>\n",
       "      <td>@CoinDesk</td>\n",
       "      <td>4</td>\n",
       "    </tr>\n",
       "  </tbody>\n",
       "</table>\n",
       "</div>"
      ],
      "text/plain": [
       "         mentions  count\n",
       "0        @YouTube     12\n",
       "1  @GenesisMining      8\n",
       "2  @blockchainbiz      6\n",
       "3        @bitcoin      4\n",
       "4       @CoinDesk      4"
      ]
     },
     "execution_count": 9,
     "metadata": {},
     "output_type": "execute_result"
    }
   ],
   "source": [
    "my_search.mentioned_df().head()"
   ]
  },
  {
   "cell_type": "code",
   "execution_count": 10,
   "metadata": {},
   "outputs": [
    {
     "data": {
      "text/html": [
       "<div>\n",
       "<style>\n",
       "    .dataframe thead tr:only-child th {\n",
       "        text-align: right;\n",
       "    }\n",
       "\n",
       "    .dataframe thead th {\n",
       "        text-align: left;\n",
       "    }\n",
       "\n",
       "    .dataframe tbody tr th {\n",
       "        vertical-align: top;\n",
       "    }\n",
       "</style>\n",
       "<table border=\"1\" class=\"dataframe\">\n",
       "  <thead>\n",
       "    <tr style=\"text-align: right;\">\n",
       "      <th></th>\n",
       "      <th>hashtags</th>\n",
       "      <th>count</th>\n",
       "    </tr>\n",
       "  </thead>\n",
       "  <tbody>\n",
       "    <tr>\n",
       "      <th>0</th>\n",
       "      <td>Bitcoin</td>\n",
       "      <td>135</td>\n",
       "    </tr>\n",
       "    <tr>\n",
       "      <th>1</th>\n",
       "      <td>bitcoin</td>\n",
       "      <td>123</td>\n",
       "    </tr>\n",
       "    <tr>\n",
       "      <th>2</th>\n",
       "      <td>cryptocurrency</td>\n",
       "      <td>24</td>\n",
       "    </tr>\n",
       "    <tr>\n",
       "      <th>3</th>\n",
       "      <td>altcoins</td>\n",
       "      <td>12</td>\n",
       "    </tr>\n",
       "    <tr>\n",
       "      <th>4</th>\n",
       "      <td>GoogleAlerts</td>\n",
       "      <td>11</td>\n",
       "    </tr>\n",
       "  </tbody>\n",
       "</table>\n",
       "</div>"
      ],
      "text/plain": [
       "         hashtags  count\n",
       "0         Bitcoin    135\n",
       "1         bitcoin    123\n",
       "2  cryptocurrency     24\n",
       "3        altcoins     12\n",
       "4    GoogleAlerts     11"
      ]
     },
     "execution_count": 10,
     "metadata": {},
     "output_type": "execute_result"
    }
   ],
   "source": [
    "my_search.hashtags_df().head()"
   ]
  },
  {
   "cell_type": "code",
   "execution_count": 11,
   "metadata": {},
   "outputs": [
    {
     "data": {
      "text/html": [
       "<div>\n",
       "<style>\n",
       "    .dataframe thead tr:only-child th {\n",
       "        text-align: right;\n",
       "    }\n",
       "\n",
       "    .dataframe thead th {\n",
       "        text-align: left;\n",
       "    }\n",
       "\n",
       "    .dataframe tbody tr th {\n",
       "        vertical-align: top;\n",
       "    }\n",
       "</style>\n",
       "<table border=\"1\" class=\"dataframe\">\n",
       "  <thead>\n",
       "    <tr style=\"text-align: right;\">\n",
       "      <th></th>\n",
       "      <th>url</th>\n",
       "      <th>count</th>\n",
       "    </tr>\n",
       "  </thead>\n",
       "  <tbody>\n",
       "    <tr>\n",
       "      <th>0</th>\n",
       "      <td>https://t.co/UTq4p9bjSP</td>\n",
       "      <td>8</td>\n",
       "    </tr>\n",
       "    <tr>\n",
       "      <th>1</th>\n",
       "      <td>https://t.co/WRyzFPScK9</td>\n",
       "      <td>7</td>\n",
       "    </tr>\n",
       "    <tr>\n",
       "      <th>2</th>\n",
       "      <td>https://t.co/AppDqDUeGU</td>\n",
       "      <td>7</td>\n",
       "    </tr>\n",
       "    <tr>\n",
       "      <th>3</th>\n",
       "      <td>https://t.co/0I4IIflkwI</td>\n",
       "      <td>3</td>\n",
       "    </tr>\n",
       "    <tr>\n",
       "      <th>4</th>\n",
       "      <td>https://t.co/0ScptZxYqG</td>\n",
       "      <td>3</td>\n",
       "    </tr>\n",
       "  </tbody>\n",
       "</table>\n",
       "</div>"
      ],
      "text/plain": [
       "                       url  count\n",
       "0  https://t.co/UTq4p9bjSP      8\n",
       "1  https://t.co/WRyzFPScK9      7\n",
       "2  https://t.co/AppDqDUeGU      7\n",
       "3  https://t.co/0I4IIflkwI      3\n",
       "4  https://t.co/0ScptZxYqG      3"
      ]
     },
     "execution_count": 11,
     "metadata": {},
     "output_type": "execute_result"
    }
   ],
   "source": [
    "my_search.urls_df().head()"
   ]
  },
  {
   "cell_type": "markdown",
   "metadata": {},
   "source": [
    "Get an estimate of the average tweet frequency for the search term:"
   ]
  },
  {
   "cell_type": "code",
   "execution_count": 12,
   "metadata": {},
   "outputs": [
    {
     "data": {
      "text/plain": [
       "datetime.timedelta(0, 3, 398000)"
      ]
     },
     "execution_count": 12,
     "metadata": {},
     "output_type": "execute_result"
    }
   ],
   "source": [
    "my_search.time_per_tweet"
   ]
  },
  {
   "cell_type": "markdown",
   "metadata": {},
   "source": [
    "Get an estimate of the number of tweets per week about the search term:"
   ]
  },
  {
   "cell_type": "code",
   "execution_count": 13,
   "metadata": {},
   "outputs": [
    {
     "data": {
      "text/plain": [
       "201600"
      ]
     },
     "execution_count": 13,
     "metadata": {},
     "output_type": "execute_result"
    }
   ],
   "source": [
    "my_search.tweets_per_week"
   ]
  },
  {
   "cell_type": "markdown",
   "metadata": {},
   "source": [
    "Get a list of the text of all the tweets:"
   ]
  },
  {
   "cell_type": "code",
   "execution_count": 14,
   "metadata": {},
   "outputs": [
    {
     "data": {
      "text/plain": [
       "['@rBitcoins: Swiss town of Chiasso to accept bitcoin to settle tax bills. https://t.co/xDv9mdlsTC',\n",
       " '#Bitcoin #gold exchange @Vaultoro receives 7 figure investment from #fintech accelerator @the_finlab #singapore |… https://t.co/JIi9LhtLPH',\n",
       " 'Tokyo-based GMO Internet Group Plans to Spend $320M on Bitcoin Mining Busines https://t.co/pbUBf7sijR',\n",
       " 'Precio actual Bitcoin https://t.co/yabfgsW0qn',\n",
       " \"It's been 4 years and no burst yet. The Bitcoin Bubble and the Future of Currency (2013) https://t.co/IalkOg6nNS\",\n",
       " 'Decentralized Search Engine Explained https://t.co/52c3FYvMSD #Bitcoin #Altcoin',\n",
       " 'Tokyo-based GMO Internet Group Plans to Spend $320M on Bitcoin Mining Busines: https://t.co/AhPvLdIta4 #bitcoin #btc',\n",
       " 'You want a Lamborghini, sip martinis, look hot in a bikini, ya betta #work b*%ch 👸🏻🙌 #crypto #bitcoin #FridayFeeling',\n",
       " 'Bitcoin is a bit like the dollar, but it’s still a ‘speculative bubble,’ says Howard Marks https://t.co/1X5fs7kktr  @VicRek',\n",
       " '@alanz1201 @waikiat_1104 Hodl is reserved only for bitcoin..\\n\\nEverything else I dump to make more bitcoin.']"
      ]
     },
     "execution_count": 14,
     "metadata": {},
     "output_type": "execute_result"
    }
   ],
   "source": [
    "my_search.tweets[:10]"
   ]
  },
  {
   "cell_type": "markdown",
   "metadata": {},
   "source": [
    "Doing some Natural Language Processing? Get the same list, but with URLs, hashtag symbols, and @ symbols removed:"
   ]
  },
  {
   "cell_type": "code",
   "execution_count": 15,
   "metadata": {},
   "outputs": [
    {
     "data": {
      "text/plain": [
       "['rBitcoins: Swiss town of Chiasso to accept bitcoin to settle tax bills.',\n",
       " 'Bitcoin gold exchange Vaultoro receives 7 figure investment from fintech accelerator the_finlab singapore |…',\n",
       " 'Tokyo-based GMO Internet Group Plans to Spend $320M on Bitcoin Mining Busines',\n",
       " 'Precio actual Bitcoin',\n",
       " \"It's been 4 years and no burst yet. The Bitcoin Bubble and the Future of Currency (2013)\",\n",
       " 'Decentralized Search Engine Explained Bitcoin Altcoin',\n",
       " 'Tokyo-based GMO Internet Group Plans to Spend $320M on Bitcoin Mining Busines: bitcoin btc',\n",
       " 'You want a Lamborghini, sip martinis, look hot in a bikini, ya betta work b*%ch 👸🏻🙌 crypto bitcoin FridayFeeling',\n",
       " 'Bitcoin is a bit like the dollar, but it’s still a ‘speculative bubble,’ says Howard Marks VicRek',\n",
       " 'alanz1201 waikiat_1104 Hodl is reserved only for bitcoin.. Everything else I dump to make more bitcoin.']"
      ]
     },
     "execution_count": 15,
     "metadata": {},
     "output_type": "execute_result"
    }
   ],
   "source": [
    "my_search.stripped_tweets[:10]"
   ]
  },
  {
   "cell_type": "markdown",
   "metadata": {},
   "source": [
    "### NEW! Integrated sentiment analysis with <a href=\"https://github.com/sloria/TextBlob\">TextBlob</a>\n",
    "Get a score for the average subjectivity and polarity of the tweets:"
   ]
  },
  {
   "cell_type": "code",
   "execution_count": 16,
   "metadata": {},
   "outputs": [
    {
     "data": {
      "text/plain": [
       "0.086295275135743879"
      ]
     },
     "execution_count": 16,
     "metadata": {},
     "output_type": "execute_result"
    }
   ],
   "source": [
    "my_search.polarity_score"
   ]
  },
  {
   "cell_type": "code",
   "execution_count": 17,
   "metadata": {},
   "outputs": [
    {
     "data": {
      "text/plain": [
       "0.24988760387760389"
      ]
     },
     "execution_count": 17,
     "metadata": {},
     "output_type": "execute_result"
    }
   ],
   "source": [
    "my_search.subjectivity_score"
   ]
  },
  {
   "cell_type": "markdown",
   "metadata": {},
   "source": [
    "### Or just get everything in a pandas dataframe ready for analysis"
   ]
  },
  {
   "cell_type": "code",
   "execution_count": 18,
   "metadata": {},
   "outputs": [
    {
     "data": {
      "text/html": [
       "<div>\n",
       "<style>\n",
       "    .dataframe thead tr:only-child th {\n",
       "        text-align: right;\n",
       "    }\n",
       "\n",
       "    .dataframe thead th {\n",
       "        text-align: left;\n",
       "    }\n",
       "\n",
       "    .dataframe tbody tr th {\n",
       "        vertical-align: top;\n",
       "    }\n",
       "</style>\n",
       "<table border=\"1\" class=\"dataframe\">\n",
       "  <thead>\n",
       "    <tr style=\"text-align: right;\">\n",
       "      <th></th>\n",
       "      <th>ats</th>\n",
       "      <th>created_at</th>\n",
       "      <th>favorite_count</th>\n",
       "      <th>hashtags</th>\n",
       "      <th>id</th>\n",
       "      <th>polarity</th>\n",
       "      <th>retweet_count</th>\n",
       "      <th>stripped_tweet</th>\n",
       "      <th>subjectivity</th>\n",
       "      <th>tweet</th>\n",
       "      <th>urls</th>\n",
       "      <th>user</th>\n",
       "    </tr>\n",
       "  </thead>\n",
       "  <tbody>\n",
       "    <tr>\n",
       "      <th>0</th>\n",
       "      <td>[@rBitcoins]</td>\n",
       "      <td>Fri Sep 08 12:53:46 +0000 2017</td>\n",
       "      <td>0</td>\n",
       "      <td>[]</td>\n",
       "      <td>906138494397009920</td>\n",
       "      <td>0.0</td>\n",
       "      <td>0</td>\n",
       "      <td>rBitcoins: Swiss town of Chiasso to accept bit...</td>\n",
       "      <td>0.000</td>\n",
       "      <td>@rBitcoins: Swiss town of Chiasso to accept bi...</td>\n",
       "      <td>[https://t.co/xDv9mdlsTC]</td>\n",
       "      <td>Cryptow1re</td>\n",
       "    </tr>\n",
       "    <tr>\n",
       "      <th>1</th>\n",
       "      <td>[@Vaultoro, @the]</td>\n",
       "      <td>Fri Sep 08 12:53:46 +0000 2017</td>\n",
       "      <td>0</td>\n",
       "      <td>[Bitcoin, gold, fintech, singapore]</td>\n",
       "      <td>906138492572499970</td>\n",
       "      <td>0.0</td>\n",
       "      <td>0</td>\n",
       "      <td>Bitcoin gold exchange Vaultoro receives 7 figu...</td>\n",
       "      <td>0.000</td>\n",
       "      <td>#Bitcoin #gold exchange @Vaultoro receives 7 f...</td>\n",
       "      <td>[https://t.co/JIi9LhtLPH]</td>\n",
       "      <td>crypto_ninjas</td>\n",
       "    </tr>\n",
       "    <tr>\n",
       "      <th>2</th>\n",
       "      <td>[]</td>\n",
       "      <td>Fri Sep 08 12:53:36 +0000 2017</td>\n",
       "      <td>1</td>\n",
       "      <td>[]</td>\n",
       "      <td>906138448590987265</td>\n",
       "      <td>0.0</td>\n",
       "      <td>1</td>\n",
       "      <td>Tokyo-based GMO Internet Group Plans to Spend ...</td>\n",
       "      <td>0.000</td>\n",
       "      <td>Tokyo-based GMO Internet Group Plans to Spend ...</td>\n",
       "      <td>[https://t.co/pbUBf7sijR]</td>\n",
       "      <td>RealTimeCrypto</td>\n",
       "    </tr>\n",
       "    <tr>\n",
       "      <th>3</th>\n",
       "      <td>[]</td>\n",
       "      <td>Fri Sep 08 12:53:30 +0000 2017</td>\n",
       "      <td>0</td>\n",
       "      <td>[]</td>\n",
       "      <td>906138425409110016</td>\n",
       "      <td>0.0</td>\n",
       "      <td>0</td>\n",
       "      <td>Precio actual Bitcoin</td>\n",
       "      <td>0.100</td>\n",
       "      <td>Precio actual Bitcoin https://t.co/yabfgsW0qn</td>\n",
       "      <td>[https://t.co/yabfgsW0qn]</td>\n",
       "      <td>CryptoTrading_1</td>\n",
       "    </tr>\n",
       "    <tr>\n",
       "      <th>4</th>\n",
       "      <td>[]</td>\n",
       "      <td>Fri Sep 08 12:53:23 +0000 2017</td>\n",
       "      <td>0</td>\n",
       "      <td>[]</td>\n",
       "      <td>906138394245435392</td>\n",
       "      <td>0.0</td>\n",
       "      <td>0</td>\n",
       "      <td>It's been 4 years and no burst yet. The Bitcoi...</td>\n",
       "      <td>0.125</td>\n",
       "      <td>It's been 4 years and no burst yet. The Bitcoi...</td>\n",
       "      <td>[https://t.co/IalkOg6nNS]</td>\n",
       "      <td>YogiRavi</td>\n",
       "    </tr>\n",
       "  </tbody>\n",
       "</table>\n",
       "</div>"
      ],
      "text/plain": [
       "                 ats                      created_at  favorite_count  \\\n",
       "0       [@rBitcoins]  Fri Sep 08 12:53:46 +0000 2017               0   \n",
       "1  [@Vaultoro, @the]  Fri Sep 08 12:53:46 +0000 2017               0   \n",
       "2                 []  Fri Sep 08 12:53:36 +0000 2017               1   \n",
       "3                 []  Fri Sep 08 12:53:30 +0000 2017               0   \n",
       "4                 []  Fri Sep 08 12:53:23 +0000 2017               0   \n",
       "\n",
       "                              hashtags                  id  polarity  \\\n",
       "0                                   []  906138494397009920       0.0   \n",
       "1  [Bitcoin, gold, fintech, singapore]  906138492572499970       0.0   \n",
       "2                                   []  906138448590987265       0.0   \n",
       "3                                   []  906138425409110016       0.0   \n",
       "4                                   []  906138394245435392       0.0   \n",
       "\n",
       "   retweet_count                                     stripped_tweet  \\\n",
       "0              0  rBitcoins: Swiss town of Chiasso to accept bit...   \n",
       "1              0  Bitcoin gold exchange Vaultoro receives 7 figu...   \n",
       "2              1  Tokyo-based GMO Internet Group Plans to Spend ...   \n",
       "3              0                              Precio actual Bitcoin   \n",
       "4              0  It's been 4 years and no burst yet. The Bitcoi...   \n",
       "\n",
       "   subjectivity                                              tweet  \\\n",
       "0         0.000  @rBitcoins: Swiss town of Chiasso to accept bi...   \n",
       "1         0.000  #Bitcoin #gold exchange @Vaultoro receives 7 f...   \n",
       "2         0.000  Tokyo-based GMO Internet Group Plans to Spend ...   \n",
       "3         0.100      Precio actual Bitcoin https://t.co/yabfgsW0qn   \n",
       "4         0.125  It's been 4 years and no burst yet. The Bitcoi...   \n",
       "\n",
       "                        urls             user  \n",
       "0  [https://t.co/xDv9mdlsTC]       Cryptow1re  \n",
       "1  [https://t.co/JIi9LhtLPH]    crypto_ninjas  \n",
       "2  [https://t.co/pbUBf7sijR]   RealTimeCrypto  \n",
       "3  [https://t.co/yabfgsW0qn]  CryptoTrading_1  \n",
       "4  [https://t.co/IalkOg6nNS]         YogiRavi  "
      ]
     },
     "execution_count": 18,
     "metadata": {},
     "output_type": "execute_result"
    }
   ],
   "source": [
    "my_search.pandas_df().head()"
   ]
  }
 ],
 "metadata": {
  "kernelspec": {
   "display_name": "Python 3",
   "language": "python",
   "name": "python3"
  },
  "language_info": {
   "codemirror_mode": {
    "name": "ipython",
    "version": 3
   },
   "file_extension": ".py",
   "mimetype": "text/x-python",
   "name": "python",
   "nbconvert_exporter": "python",
   "pygments_lexer": "ipython3",
   "version": "3.6.1"
  }
 },
 "nbformat": 4,
 "nbformat_minor": 2
}
